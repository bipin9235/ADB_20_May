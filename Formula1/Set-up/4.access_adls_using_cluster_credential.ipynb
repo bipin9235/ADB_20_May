{
 "cells": [
  {
   "cell_type": "markdown",
   "metadata": {
    "application/vnd.databricks.v1+cell": {
     "cellMetadata": {},
     "inputWidgets": {},
     "nuid": "f249bd39-0279-41ff-91a1-4b24f3d5578c",
     "showTitle": false,
     "tableResultSettingsMap": {},
     "title": ""
    }
   },
   "source": [
    "###Access ADLS using cluster credential/configurations\n",
    "Steps\n",
    "1. Set the Spark configuration fs.azure.account.key in the cluster    and restart.\n",
    "2. List all the files from bipin container\n",
    "3. Read data from one of the file.\n",
    "4. Once done remove the conf info."
   ]
  },
  {
   "cell_type": "code",
   "execution_count": 0,
   "metadata": {
    "application/vnd.databricks.v1+cell": {
     "cellMetadata": {
      "byteLimit": 2048000,
      "rowLimit": 10000
     },
     "inputWidgets": {},
     "nuid": "0a8ae44a-ce47-4b55-b3d9-efa4abcf5065",
     "showTitle": false,
     "tableResultSettingsMap": {},
     "title": ""
    }
   },
   "outputs": [],
   "source": [
    "dbutils.fs.ls('abfss://bipin@adlsderek.dfs.core.windows.net')"
   ]
  }
 ],
 "metadata": {
  "application/vnd.databricks.v1+notebook": {
   "computePreferences": null,
   "dashboards": [],
   "environmentMetadata": {
    "base_environment": "",
    "environment_version": "2"
   },
   "inputWidgetPreferences": null,
   "language": "python",
   "notebookMetadata": {
    "pythonIndentUnit": 4
   },
   "notebookName": "4.access_adls_using_cluster_credential",
   "widgets": {}
  },
  "language_info": {
   "name": "python"
  }
 },
 "nbformat": 4,
 "nbformat_minor": 0
}
